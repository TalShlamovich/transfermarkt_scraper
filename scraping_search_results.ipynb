{
 "cells": [
  {
   "cell_type": "code",
   "execution_count": 1,
   "id": "edda35bb",
   "metadata": {},
   "outputs": [],
   "source": [
    "import requests\n",
    "from bs4 import BeautifulSoup\n",
    "import pandas as pd \n",
    "import numpy as np"
   ]
  },
  {
   "cell_type": "code",
   "execution_count": 2,
   "id": "beeee229",
   "metadata": {},
   "outputs": [],
   "source": [
    "headers = {'User-Agent':'Mozilla/5.0 (X11; Linux x86_64) AppleWebKit/537.36 (KHTML, like Gecko) Chrome/47.0.2526.106 Safari/537.36'}\n",
    "page = \"https://www.transfermarkt.com/schnellsuche/ergebnis/schnellsuche?query=spain\"\n",
    "pageTree = requests.get(page, headers=headers)\n",
    "pageSoup = BeautifulSoup(pageTree.content, 'html.parser')"
   ]
  },
  {
   "cell_type": "code",
   "execution_count": null,
   "id": "2e1a4a27",
   "metadata": {},
   "outputs": [],
   "source": []
  },
  {
   "cell_type": "code",
   "execution_count": 3,
   "id": "1f469ac5",
   "metadata": {},
   "outputs": [],
   "source": [
    "# find all tables"
   ]
  },
  {
   "cell_type": "code",
   "execution_count": 4,
   "id": "a0311eec",
   "metadata": {},
   "outputs": [],
   "source": [
    "tables = pageSoup.find_all(\"div\", {\"class\": \"large-12 columns\"})"
   ]
  },
  {
   "cell_type": "code",
   "execution_count": null,
   "id": "c154cbe8",
   "metadata": {},
   "outputs": [],
   "source": []
  },
  {
   "cell_type": "code",
   "execution_count": 5,
   "id": "e1fdaff3",
   "metadata": {},
   "outputs": [
    {
     "name": "stdout",
     "output_type": "stream",
     "text": [
      "False\n",
      "True\n",
      "False\n",
      "False\n"
     ]
    }
   ],
   "source": [
    "for table in tables:\n",
    "    if 'Search results: Clubs' in table.text:\n",
    "        print(True)\n",
    "    else: \n",
    "        print(False)"
   ]
  },
  {
   "cell_type": "code",
   "execution_count": null,
   "id": "10e96063",
   "metadata": {},
   "outputs": [],
   "source": []
  },
  {
   "cell_type": "code",
   "execution_count": null,
   "id": "82c33f6e",
   "metadata": {},
   "outputs": [],
   "source": []
  },
  {
   "cell_type": "code",
   "execution_count": null,
   "id": "07b81ace",
   "metadata": {},
   "outputs": [],
   "source": []
  },
  {
   "cell_type": "code",
   "execution_count": 6,
   "id": "ee454a63",
   "metadata": {},
   "outputs": [],
   "source": [
    "# country_name = country[0].attrs.get(\"title\").strip()"
   ]
  },
  {
   "cell_type": "code",
   "execution_count": 7,
   "id": "c96402a9",
   "metadata": {},
   "outputs": [],
   "source": [
    "clubs = []\n",
    "country_flags = []\n",
    "for table in tables:\n",
    "    if 'Search results: Clubs' in table.text:\n",
    "        clubs = table.find_all('td', {'class':'hauptlink'})\n",
    "        country_flags = table.find_all('img', {'class':'flaggenrahmen'})"
   ]
  },
  {
   "cell_type": "code",
   "execution_count": 8,
   "id": "2df7072b",
   "metadata": {},
   "outputs": [],
   "source": [
    "club_names = []\n",
    "country_names = []\n",
    "urls = []\n",
    "for i in range(len(clubs)):\n",
    "    club_names.append(clubs[i].text.strip())\n",
    "    country_names.append(country_flags[i].attrs.get('title').strip())\n",
    "    urls.append(f\"https://www.transfermarkt.com{clubs[i].find_all('a')[0].attrs.get('href').strip()}\")"
   ]
  },
  {
   "cell_type": "code",
   "execution_count": 9,
   "id": "0bb1e541",
   "metadata": {},
   "outputs": [
    {
     "data": {
      "text/plain": [
       "['Spain',\n",
       " 'Spain U21',\n",
       " 'Spain U19',\n",
       " 'Spain U18',\n",
       " 'Spain U17',\n",
       " 'Spain U16',\n",
       " 'FC Spartans International',\n",
       " 'Spain U15',\n",
       " 'Spain U20',\n",
       " 'Spain U23']"
      ]
     },
     "execution_count": 9,
     "metadata": {},
     "output_type": "execute_result"
    }
   ],
   "source": [
    "club_names"
   ]
  },
  {
   "cell_type": "code",
   "execution_count": 10,
   "id": "eb6c41ed",
   "metadata": {},
   "outputs": [
    {
     "data": {
      "text/plain": [
       "['https://www.transfermarkt.com/spanien/startseite/verein/3375',\n",
       " 'https://www.transfermarkt.com/spanien-u21/startseite/verein/9567',\n",
       " 'https://www.transfermarkt.com/spanien-u19/startseite/verein/12609',\n",
       " 'https://www.transfermarkt.com/spanien-u18/startseite/verein/20947',\n",
       " 'https://www.transfermarkt.com/spanien-u17/startseite/verein/12395',\n",
       " 'https://www.transfermarkt.com/spanien-u16/startseite/verein/33775',\n",
       " 'https://www.transfermarkt.com/fc-spartans-international/startseite/verein/66732',\n",
       " 'https://www.transfermarkt.com/spanien-u15/startseite/verein/70910',\n",
       " 'https://www.transfermarkt.com/spanien-u20/startseite/verein/20911',\n",
       " 'https://www.transfermarkt.com/spanien-u23/startseite/verein/35742']"
      ]
     },
     "execution_count": 10,
     "metadata": {},
     "output_type": "execute_result"
    }
   ],
   "source": [
    "urls"
   ]
  },
  {
   "cell_type": "code",
   "execution_count": 11,
   "id": "3a1f32ac",
   "metadata": {},
   "outputs": [],
   "source": [
    "search_scrape_df = pd.DataFrame({\"club_names\":club_names,\"country_names\":country_names, \"urls\": urls})"
   ]
  },
  {
   "cell_type": "code",
   "execution_count": 12,
   "id": "7076340d",
   "metadata": {},
   "outputs": [
    {
     "data": {
      "text/html": [
       "<div>\n",
       "<style scoped>\n",
       "    .dataframe tbody tr th:only-of-type {\n",
       "        vertical-align: middle;\n",
       "    }\n",
       "\n",
       "    .dataframe tbody tr th {\n",
       "        vertical-align: top;\n",
       "    }\n",
       "\n",
       "    .dataframe thead th {\n",
       "        text-align: right;\n",
       "    }\n",
       "</style>\n",
       "<table border=\"1\" class=\"dataframe\">\n",
       "  <thead>\n",
       "    <tr style=\"text-align: right;\">\n",
       "      <th></th>\n",
       "      <th>club_names</th>\n",
       "      <th>country_names</th>\n",
       "      <th>urls</th>\n",
       "    </tr>\n",
       "  </thead>\n",
       "  <tbody>\n",
       "    <tr>\n",
       "      <th>0</th>\n",
       "      <td>Spain</td>\n",
       "      <td>Spain</td>\n",
       "      <td>https://www.transfermarkt.com/spanien/startsei...</td>\n",
       "    </tr>\n",
       "    <tr>\n",
       "      <th>1</th>\n",
       "      <td>Spain U21</td>\n",
       "      <td>Spain</td>\n",
       "      <td>https://www.transfermarkt.com/spanien-u21/star...</td>\n",
       "    </tr>\n",
       "    <tr>\n",
       "      <th>2</th>\n",
       "      <td>Spain U19</td>\n",
       "      <td>Spain U21</td>\n",
       "      <td>https://www.transfermarkt.com/spanien-u19/star...</td>\n",
       "    </tr>\n",
       "    <tr>\n",
       "      <th>3</th>\n",
       "      <td>Spain U18</td>\n",
       "      <td>Spain</td>\n",
       "      <td>https://www.transfermarkt.com/spanien-u18/star...</td>\n",
       "    </tr>\n",
       "    <tr>\n",
       "      <th>4</th>\n",
       "      <td>Spain U17</td>\n",
       "      <td>Spain U19</td>\n",
       "      <td>https://www.transfermarkt.com/spanien-u17/star...</td>\n",
       "    </tr>\n",
       "    <tr>\n",
       "      <th>5</th>\n",
       "      <td>Spain U16</td>\n",
       "      <td>Spain</td>\n",
       "      <td>https://www.transfermarkt.com/spanien-u16/star...</td>\n",
       "    </tr>\n",
       "    <tr>\n",
       "      <th>6</th>\n",
       "      <td>FC Spartans International</td>\n",
       "      <td>Spain U18</td>\n",
       "      <td>https://www.transfermarkt.com/fc-spartans-inte...</td>\n",
       "    </tr>\n",
       "    <tr>\n",
       "      <th>7</th>\n",
       "      <td>Spain U15</td>\n",
       "      <td>Spain</td>\n",
       "      <td>https://www.transfermarkt.com/spanien-u15/star...</td>\n",
       "    </tr>\n",
       "    <tr>\n",
       "      <th>8</th>\n",
       "      <td>Spain U20</td>\n",
       "      <td>Spain U17</td>\n",
       "      <td>https://www.transfermarkt.com/spanien-u20/star...</td>\n",
       "    </tr>\n",
       "    <tr>\n",
       "      <th>9</th>\n",
       "      <td>Spain U23</td>\n",
       "      <td>Spain</td>\n",
       "      <td>https://www.transfermarkt.com/spanien-u23/star...</td>\n",
       "    </tr>\n",
       "  </tbody>\n",
       "</table>\n",
       "</div>"
      ],
      "text/plain": [
       "                  club_names country_names  \\\n",
       "0                      Spain         Spain   \n",
       "1                  Spain U21         Spain   \n",
       "2                  Spain U19     Spain U21   \n",
       "3                  Spain U18         Spain   \n",
       "4                  Spain U17     Spain U19   \n",
       "5                  Spain U16         Spain   \n",
       "6  FC Spartans International     Spain U18   \n",
       "7                  Spain U15         Spain   \n",
       "8                  Spain U20     Spain U17   \n",
       "9                  Spain U23         Spain   \n",
       "\n",
       "                                                urls  \n",
       "0  https://www.transfermarkt.com/spanien/startsei...  \n",
       "1  https://www.transfermarkt.com/spanien-u21/star...  \n",
       "2  https://www.transfermarkt.com/spanien-u19/star...  \n",
       "3  https://www.transfermarkt.com/spanien-u18/star...  \n",
       "4  https://www.transfermarkt.com/spanien-u17/star...  \n",
       "5  https://www.transfermarkt.com/spanien-u16/star...  \n",
       "6  https://www.transfermarkt.com/fc-spartans-inte...  \n",
       "7  https://www.transfermarkt.com/spanien-u15/star...  \n",
       "8  https://www.transfermarkt.com/spanien-u20/star...  \n",
       "9  https://www.transfermarkt.com/spanien-u23/star...  "
      ]
     },
     "execution_count": 12,
     "metadata": {},
     "output_type": "execute_result"
    }
   ],
   "source": [
    "search_scrape_df"
   ]
  },
  {
   "cell_type": "code",
   "execution_count": 13,
   "id": "ad5da1f8",
   "metadata": {},
   "outputs": [
    {
     "name": "stdout",
     "output_type": "stream",
     "text": [
      "club_names\n",
      "country_names\n",
      "urls\n"
     ]
    }
   ],
   "source": [
    "for i in search_scrape_df:\n",
    "    print(i)"
   ]
  },
  {
   "cell_type": "code",
   "execution_count": 14,
   "id": "75cd0468",
   "metadata": {},
   "outputs": [
    {
     "data": {
      "text/plain": [
       "'Spain'"
      ]
     },
     "execution_count": 14,
     "metadata": {},
     "output_type": "execute_result"
    }
   ],
   "source": [
    "search_scrape_df.loc[0]['country_names']"
   ]
  },
  {
   "cell_type": "code",
   "execution_count": 15,
   "id": "52fe4108",
   "metadata": {},
   "outputs": [
    {
     "data": {
      "text/plain": [
       "10"
      ]
     },
     "execution_count": 15,
     "metadata": {},
     "output_type": "execute_result"
    }
   ],
   "source": [
    "len(search_scrape_df)"
   ]
  },
  {
   "cell_type": "code",
   "execution_count": 16,
   "id": "ba0c6176",
   "metadata": {},
   "outputs": [
    {
     "data": {
      "text/plain": [
       "'Please choose the team:\\nSpain from Spain\\nSpain U21 from Spain\\nSpain U19 from Spain U21\\nSpain U18 from Spain\\nSpain U17 from Spain U19\\nSpain U16 from Spain\\nFC Spartans International from Spain U18\\nSpain U15 from Spain\\nSpain U20 from Spain U17\\nSpain U23 from Spain\\n'"
      ]
     },
     "execution_count": 16,
     "metadata": {},
     "output_type": "execute_result"
    }
   ],
   "source": [
    "mess = \"Please choose the team:\\n\"\n",
    "for i in range(len(search_scrape_df)):\n",
    "    mess += f\"\"\"{search_scrape_df.loc[i]['club_names']} from {search_scrape_df.loc[i]['country_names']}\\n\"\"\"\n",
    "mess\n",
    "    "
   ]
  },
  {
   "cell_type": "code",
   "execution_count": 18,
   "id": "79e2bbb3",
   "metadata": {},
   "outputs": [
    {
     "data": {
      "text/plain": [
       "'https://www.transfermarkt.com/spanien/startseite/verein/3375'"
      ]
     },
     "execution_count": 18,
     "metadata": {},
     "output_type": "execute_result"
    }
   ],
   "source": [
    "search_scrape_df.loc[0]['urls']"
   ]
  },
  {
   "cell_type": "code",
   "execution_count": null,
   "id": "69daf1cb",
   "metadata": {},
   "outputs": [],
   "source": []
  }
 ],
 "metadata": {
  "kernelspec": {
   "display_name": "Python 3 (ipykernel)",
   "language": "python",
   "name": "python3"
  },
  "language_info": {
   "codemirror_mode": {
    "name": "ipython",
    "version": 3
   },
   "file_extension": ".py",
   "mimetype": "text/x-python",
   "name": "python",
   "nbconvert_exporter": "python",
   "pygments_lexer": "ipython3",
   "version": "3.10.6"
  }
 },
 "nbformat": 4,
 "nbformat_minor": 5
}
