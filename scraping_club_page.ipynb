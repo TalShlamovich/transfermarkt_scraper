{
 "cells": [
  {
   "cell_type": "code",
   "execution_count": 1,
   "id": "54ee2a20",
   "metadata": {},
   "outputs": [],
   "source": [
    "import requests\n",
    "import pandas as pd\n",
    "import numpy as np\n",
    "from bs4 import BeautifulSoup"
   ]
  },
  {
   "cell_type": "code",
   "execution_count": null,
   "id": "f3bfb494",
   "metadata": {},
   "outputs": [],
   "source": []
  },
  {
   "cell_type": "code",
   "execution_count": 2,
   "id": "aa97cb74",
   "metadata": {},
   "outputs": [],
   "source": [
    "headers = {'User-Agent': \n",
    "           'Mozilla/5.0 (X11; Linux x86_64) AppleWebKit/537.36 (KHTML, like Gecko) Chrome/47.0.2526.106 Safari/537.36'}\n",
    "\n",
    "page = \"https://www.transfermarkt.com/west-ham-united/startseite/verein/379\"\n",
    "pageTree = requests.get(page, headers=headers)\n",
    "pageSoup = BeautifulSoup(pageTree.content, 'html.parser')"
   ]
  },
  {
   "cell_type": "code",
   "execution_count": null,
   "id": "bfa3f213",
   "metadata": {},
   "outputs": [],
   "source": []
  },
  {
   "cell_type": "code",
   "execution_count": 3,
   "id": "27436f9c",
   "metadata": {},
   "outputs": [],
   "source": [
    "total_mv = pageSoup.find_all(\"div\", {\"class\": \"dataMarktwert\"})"
   ]
  },
  {
   "cell_type": "code",
   "execution_count": 4,
   "id": "afb2cf91",
   "metadata": {},
   "outputs": [
    {
     "data": {
      "text/plain": [
       "<div class=\"dataMarktwert\">\n",
       "<a href=\"/west-ham-united/kader/verein/379\"><span class=\"waehrung\">€</span>432.50<span class=\"waehrung\">m</span> <p>Total market value</p></a>\n",
       "</div>"
      ]
     },
     "execution_count": 4,
     "metadata": {},
     "output_type": "execute_result"
    }
   ],
   "source": [
    "total_mv[0]"
   ]
  },
  {
   "cell_type": "code",
   "execution_count": 6,
   "id": "5606d8c5",
   "metadata": {},
   "outputs": [
    {
     "data": {
      "text/plain": [
       "'€432.50m Total market value'"
      ]
     },
     "execution_count": 6,
     "metadata": {},
     "output_type": "execute_result"
    }
   ],
   "source": [
    "total_mv[0].text.strip()"
   ]
  },
  {
   "cell_type": "code",
   "execution_count": 7,
   "id": "33aeb672",
   "metadata": {},
   "outputs": [],
   "source": [
    "top_arrivals = pageSoup.find_all(\"div\", {\"data-viewport\":\"TopTransfers_zugaenge\"})"
   ]
  },
  {
   "cell_type": "code",
   "execution_count": 8,
   "id": "1ebe2364",
   "metadata": {},
   "outputs": [
    {
     "data": {
      "text/plain": [
       "<div class=\"box verein-widget zugaenge-widget viewport-tracking\" data-viewport=\"TopTransfers_zugaenge\">\n",
       "<div class=\"sub-kategorie\">\n",
       "<h2>Top arrivals</h2>\n",
       "</div>\n",
       "<table class=\"startseite\">\n",
       "<thead>\n",
       "<tr>\n",
       "<th colspan=\"2\">player/ position</th>\n",
       "<th class=\"zentriert\">club</th>\n",
       "<th class=\"rechts\">transfer fee</th>\n",
       "</tr>\n",
       "</thead>\n",
       "<tbody>\n",
       "<tr>\n",
       "<td class=\"foto\">\n",
       "<a class=\"table-link\" href=\"/lucas-paqueta/profil/spieler/444523\">\n",
       "<img alt=\"Lucas Paquetá\" class=\"swiper-lazy lazy\" data-src=\"https://img.a.transfermarkt.technology/portrait/home2/444523-1640776054.jpg?lm=1\" src=\"data:image/gif;base64,R0lGODlhAQABAIAAAMLCwgAAACH5BAAAAAAALAAAAAABAAEAAAICRAEAOw==\" title=\"Lucas Paquetá\"/> </a>\n",
       "</td>\n",
       "<td class=\"td\">\n",
       "<a class=\"table-link\" href=\"/lucas-paqueta/profil/spieler/444523\">\n",
       "<span class=\"spielername\">\n",
       "                            Lucas Paquetá                        </span>\n",
       "<span class=\"spieler-zusatz\">\n",
       "                            Attacking Midfield                        </span>\n",
       "</a>\n",
       "</td>\n",
       "<td class=\"wappen\">\n",
       "<div class=\"transfer-wappen\">\n",
       "<span class=\"wappen-ab\">\n",
       "<img alt=\"Olympique Lyon\" class=\"\" src=\"https://tmssl.akamaized.net/images/wappen/homepage/1041.png?lm=1656668172\" title=\"Olympique Lyon\"/> </span>\n",
       "</div>\n",
       "</td>\n",
       "<td class=\"rechts\">\n",
       "<span class=\"abloese\">\n",
       "<span class=\"abloeseZusatz\">€</span>42.95<span class=\"abloeseZusatz\">m</span> </span>\n",
       "</td>\n",
       "</tr>\n",
       "<tr>\n",
       "<td class=\"foto\">\n",
       "<a class=\"table-link\" href=\"/gianluca-scamacca/profil/spieler/315867\">\n",
       "<img alt=\"Gianluca Scamacca\" class=\"swiper-lazy lazy\" data-src=\"https://img.a.transfermarkt.technology/portrait/home2/315867-1659354755.jpg?lm=1\" src=\"data:image/gif;base64,R0lGODlhAQABAIAAAMLCwgAAACH5BAAAAAAALAAAAAABAAEAAAICRAEAOw==\" title=\"Gianluca Scamacca\"/> </a>\n",
       "</td>\n",
       "<td class=\"td\">\n",
       "<a class=\"table-link\" href=\"/gianluca-scamacca/profil/spieler/315867\">\n",
       "<span class=\"spielername\">\n",
       "                            Gianluca Scamacca                        </span>\n",
       "<span class=\"spieler-zusatz\">\n",
       "                            Centre-Forward                        </span>\n",
       "</a>\n",
       "</td>\n",
       "<td class=\"wappen\">\n",
       "<div class=\"transfer-wappen\">\n",
       "<span class=\"wappen-ab\">\n",
       "<img alt=\"Sassuolo\" class=\"\" src=\"https://tmssl.akamaized.net/images/wappen/homepage/6574.png?lm=1601389908\" title=\"Sassuolo\"/> </span>\n",
       "</div>\n",
       "</td>\n",
       "<td class=\"rechts\">\n",
       "<span class=\"abloese\">\n",
       "<span class=\"abloeseZusatz\">€</span>36.00<span class=\"abloeseZusatz\">m</span> </span>\n",
       "</td>\n",
       "</tr>\n",
       "<tr>\n",
       "<td class=\"foto\">\n",
       "<a class=\"table-link\" href=\"/nayef-aguerd/profil/spieler/361914\">\n",
       "<img alt=\"Nayef Aguerd\" class=\"swiper-lazy lazy\" data-src=\"https://img.a.transfermarkt.technology/portrait/home2/361914-1659355782.jpg?lm=1\" src=\"data:image/gif;base64,R0lGODlhAQABAIAAAMLCwgAAACH5BAAAAAAALAAAAAABAAEAAAICRAEAOw==\" title=\"Nayef Aguerd\"/> </a>\n",
       "</td>\n",
       "<td class=\"td\">\n",
       "<a class=\"table-link\" href=\"/nayef-aguerd/profil/spieler/361914\">\n",
       "<span class=\"spielername\">\n",
       "                            Nayef Aguerd                        </span>\n",
       "<span class=\"spieler-zusatz\">\n",
       "                            Centre-Back                        </span>\n",
       "</a>\n",
       "</td>\n",
       "<td class=\"wappen\">\n",
       "<div class=\"transfer-wappen\">\n",
       "<span class=\"wappen-ab\">\n",
       "<img alt=\"Stade Rennais\" class=\"\" src=\"https://tmssl.akamaized.net/images/wappen/homepage/273.png?lm=1408779098\" title=\"Stade Rennais\"/> </span>\n",
       "</div>\n",
       "</td>\n",
       "<td class=\"rechts\">\n",
       "<span class=\"abloese\">\n",
       "<span class=\"abloeseZusatz\">€</span>35.00<span class=\"abloeseZusatz\">m</span> </span>\n",
       "</td>\n",
       "</tr>\n",
       "<tr>\n",
       "<td class=\"foto\">\n",
       "<a class=\"table-link\" href=\"/thilo-kehrer/profil/spieler/228948\">\n",
       "<img alt=\"Thilo Kehrer\" class=\"swiper-lazy lazy\" data-src=\"https://img.a.transfermarkt.technology/portrait/home2/228948-1602848776.jpg?lm=1\" src=\"data:image/gif;base64,R0lGODlhAQABAIAAAMLCwgAAACH5BAAAAAAALAAAAAABAAEAAAICRAEAOw==\" title=\"Thilo Kehrer\"/> </a>\n",
       "</td>\n",
       "<td class=\"td\">\n",
       "<a class=\"table-link\" href=\"/thilo-kehrer/profil/spieler/228948\">\n",
       "<span class=\"spielername\">\n",
       "                            Thilo Kehrer                        </span>\n",
       "<span class=\"spieler-zusatz\">\n",
       "                            Centre-Back                        </span>\n",
       "</a>\n",
       "</td>\n",
       "<td class=\"wappen\">\n",
       "<div class=\"transfer-wappen\">\n",
       "<span class=\"wappen-ab\">\n",
       "<img alt=\"Paris SG\" class=\"\" src=\"https://tmssl.akamaized.net/images/wappen/homepage/583.png?lm=1522312728\" title=\"Paris SG\"/> </span>\n",
       "</div>\n",
       "</td>\n",
       "<td class=\"rechts\">\n",
       "<span class=\"abloese\">\n",
       "<span class=\"abloeseZusatz\">€</span>12.00<span class=\"abloeseZusatz\">m</span> </span>\n",
       "</td>\n",
       "</tr>\n",
       "<tr>\n",
       "<td class=\"foto\">\n",
       "<a class=\"table-link\" href=\"/maxwel-cornet/profil/spieler/234781\">\n",
       "<img alt=\"Maxwel Cornet\" class=\"swiper-lazy lazy\" data-src=\"https://img.a.transfermarkt.technology/portrait/home2/234781-1448021691.jpg?lm=1\" src=\"data:image/gif;base64,R0lGODlhAQABAIAAAMLCwgAAACH5BAAAAAAALAAAAAABAAEAAAICRAEAOw==\" title=\"Maxwel Cornet\"/> </a>\n",
       "</td>\n",
       "<td class=\"td\">\n",
       "<a class=\"table-link\" href=\"/maxwel-cornet/profil/spieler/234781\">\n",
       "<span class=\"spielername\">\n",
       "                            Maxwel Cornet                        </span>\n",
       "<span class=\"spieler-zusatz\">\n",
       "                            Left Winger                        </span>\n",
       "</a>\n",
       "</td>\n",
       "<td class=\"wappen\">\n",
       "<div class=\"transfer-wappen\">\n",
       "<span class=\"wappen-ab\">\n",
       "<img alt=\"Burnley\" class=\"\" src=\"https://tmssl.akamaized.net/images/wappen/homepage/1132.png?lm=1587809239\" title=\"Burnley\"/> </span>\n",
       "</div>\n",
       "</td>\n",
       "<td class=\"rechts\">\n",
       "<span class=\"abloese\">\n",
       "<span class=\"abloeseZusatz\">€</span>20.70<span class=\"abloeseZusatz\">m</span> </span>\n",
       "</td>\n",
       "</tr>\n",
       "</tbody>\n",
       "</table>\n",
       "<a class=\"content-link\" href=\"/west-ham-united/transferrekorde/verein/379/saison_id/2022\">\n",
       "            All arrivals        </a>\n",
       "<div class=\"clearer\"></div>\n",
       "</div>"
      ]
     },
     "execution_count": 8,
     "metadata": {},
     "output_type": "execute_result"
    }
   ],
   "source": [
    "top_arrivals[0]"
   ]
  },
  {
   "cell_type": "code",
   "execution_count": 9,
   "id": "839b7471",
   "metadata": {},
   "outputs": [
    {
     "data": {
      "text/plain": [
       "[<span class=\"spielername\">\n",
       "                             Lucas Paquetá                        </span>,\n",
       " <span class=\"spielername\">\n",
       "                             Gianluca Scamacca                        </span>,\n",
       " <span class=\"spielername\">\n",
       "                             Nayef Aguerd                        </span>,\n",
       " <span class=\"spielername\">\n",
       "                             Thilo Kehrer                        </span>,\n",
       " <span class=\"spielername\">\n",
       "                             Maxwel Cornet                        </span>]"
      ]
     },
     "execution_count": 9,
     "metadata": {},
     "output_type": "execute_result"
    }
   ],
   "source": [
    "top_arrivals[0].find_all('table')[0].find_all('span', {'class' : 'spielername'})"
   ]
  },
  {
   "cell_type": "code",
   "execution_count": 10,
   "id": "82780399",
   "metadata": {},
   "outputs": [],
   "source": [
    "top_arrivals_names = pageSoup.find_all(\"div\", {\"data-viewport\":\"TopTransfers_zugaenge\"})[0].find_all('table')[0].find_all('span', {'class' : 'spielername'})"
   ]
  },
  {
   "cell_type": "code",
   "execution_count": 11,
   "id": "911dd528",
   "metadata": {},
   "outputs": [
    {
     "data": {
      "text/plain": [
       "'Lucas Paquetá'"
      ]
     },
     "execution_count": 11,
     "metadata": {},
     "output_type": "execute_result"
    }
   ],
   "source": [
    "top_arrivals_names[0].text.strip()"
   ]
  },
  {
   "cell_type": "code",
   "execution_count": 12,
   "id": "14c6db51",
   "metadata": {},
   "outputs": [
    {
     "data": {
      "text/plain": [
       "'Olympique Lyon'"
      ]
     },
     "execution_count": 12,
     "metadata": {},
     "output_type": "execute_result"
    }
   ],
   "source": [
    "top_arrivals_from = pageSoup.find_all(\"div\", {\"data-viewport\":\"TopTransfers_zugaenge\"})[0].find_all('table')[0].find_all('span', {'class' : 'wappen-ab'})\n",
    "# top_arrivals_from[0].find_all('img')[0]\n",
    "top_arrivals_from[0].img.attrs.get(\"title\").strip()"
   ]
  },
  {
   "cell_type": "code",
   "execution_count": 13,
   "id": "e9093e68",
   "metadata": {},
   "outputs": [
    {
     "data": {
      "text/plain": [
       "'€20.70m'"
      ]
     },
     "execution_count": 13,
     "metadata": {},
     "output_type": "execute_result"
    }
   ],
   "source": [
    "top_arrivals_fee = pageSoup.find_all(\"div\", {\"data-viewport\":\"TopTransfers_zugaenge\"})[0].find_all('table')[0].find_all('td', {'class' : 'rechts'})\n",
    "top_arrivals_fee[4].text.strip()\n"
   ]
  },
  {
   "cell_type": "code",
   "execution_count": 14,
   "id": "6c1826b1",
   "metadata": {},
   "outputs": [],
   "source": [
    "arrived = []\n",
    "paid = []\n",
    "arrived_from = []\n",
    "for i in range(len(top_arrivals_names)):\n",
    "    arrived.append(top_arrivals_names[i].text.strip())\n",
    "    paid.append(top_arrivals_fee[i].text.strip())\n",
    "    arrived_from.append(top_arrivals_from[i].img.attrs.get(\"title\").strip())\n",
    "    "
   ]
  },
  {
   "cell_type": "code",
   "execution_count": 22,
   "id": "1dc7dc76",
   "metadata": {},
   "outputs": [
    {
     "data": {
      "text/plain": [
       "['Lucas Paquetá',\n",
       " 'Gianluca Scamacca',\n",
       " 'Nayef Aguerd',\n",
       " 'Thilo Kehrer',\n",
       " 'Maxwel Cornet']"
      ]
     },
     "execution_count": 22,
     "metadata": {},
     "output_type": "execute_result"
    }
   ],
   "source": [
    "arrived"
   ]
  },
  {
   "cell_type": "code",
   "execution_count": 23,
   "id": "70c5f3d8",
   "metadata": {},
   "outputs": [
    {
     "data": {
      "text/plain": [
       "['€42.95m', '€36.00m', '€35.00m', '€12.00m', '€20.70m']"
      ]
     },
     "execution_count": 23,
     "metadata": {},
     "output_type": "execute_result"
    }
   ],
   "source": [
    "paid"
   ]
  },
  {
   "cell_type": "code",
   "execution_count": 24,
   "id": "bec9b728",
   "metadata": {},
   "outputs": [
    {
     "data": {
      "text/plain": [
       "['Olympique Lyon', 'Sassuolo', 'Stade Rennais', 'Paris SG', 'Burnley']"
      ]
     },
     "execution_count": 24,
     "metadata": {},
     "output_type": "execute_result"
    }
   ],
   "source": [
    "arrived_from"
   ]
  },
  {
   "cell_type": "code",
   "execution_count": 25,
   "id": "3f73de9f",
   "metadata": {},
   "outputs": [],
   "source": [
    "arrivals_df = pd.DataFrame({\"Players\":arrived,\"Fee\":paid, \"Arrived From\": arrived_from})"
   ]
  },
  {
   "cell_type": "code",
   "execution_count": 26,
   "id": "945abf9a",
   "metadata": {},
   "outputs": [
    {
     "data": {
      "text/html": [
       "<div>\n",
       "<style scoped>\n",
       "    .dataframe tbody tr th:only-of-type {\n",
       "        vertical-align: middle;\n",
       "    }\n",
       "\n",
       "    .dataframe tbody tr th {\n",
       "        vertical-align: top;\n",
       "    }\n",
       "\n",
       "    .dataframe thead th {\n",
       "        text-align: right;\n",
       "    }\n",
       "</style>\n",
       "<table border=\"1\" class=\"dataframe\">\n",
       "  <thead>\n",
       "    <tr style=\"text-align: right;\">\n",
       "      <th></th>\n",
       "      <th>Players</th>\n",
       "      <th>Fee</th>\n",
       "      <th>Arrived From</th>\n",
       "    </tr>\n",
       "  </thead>\n",
       "  <tbody>\n",
       "    <tr>\n",
       "      <th>0</th>\n",
       "      <td>Lucas Paquetá</td>\n",
       "      <td>€42.95m</td>\n",
       "      <td>Olympique Lyon</td>\n",
       "    </tr>\n",
       "    <tr>\n",
       "      <th>1</th>\n",
       "      <td>Gianluca Scamacca</td>\n",
       "      <td>€36.00m</td>\n",
       "      <td>Sassuolo</td>\n",
       "    </tr>\n",
       "    <tr>\n",
       "      <th>2</th>\n",
       "      <td>Nayef Aguerd</td>\n",
       "      <td>€35.00m</td>\n",
       "      <td>Stade Rennais</td>\n",
       "    </tr>\n",
       "    <tr>\n",
       "      <th>3</th>\n",
       "      <td>Thilo Kehrer</td>\n",
       "      <td>€12.00m</td>\n",
       "      <td>Paris SG</td>\n",
       "    </tr>\n",
       "    <tr>\n",
       "      <th>4</th>\n",
       "      <td>Maxwel Cornet</td>\n",
       "      <td>€20.70m</td>\n",
       "      <td>Burnley</td>\n",
       "    </tr>\n",
       "  </tbody>\n",
       "</table>\n",
       "</div>"
      ],
      "text/plain": [
       "             Players      Fee    Arrived From\n",
       "0      Lucas Paquetá  €42.95m  Olympique Lyon\n",
       "1  Gianluca Scamacca  €36.00m        Sassuolo\n",
       "2       Nayef Aguerd  €35.00m   Stade Rennais\n",
       "3       Thilo Kehrer  €12.00m        Paris SG\n",
       "4      Maxwel Cornet  €20.70m         Burnley"
      ]
     },
     "execution_count": 26,
     "metadata": {},
     "output_type": "execute_result"
    }
   ],
   "source": [
    "arrivals_df"
   ]
  },
  {
   "cell_type": "code",
   "execution_count": 18,
   "id": "81cf93ca",
   "metadata": {},
   "outputs": [],
   "source": [
    "top_departures = pageSoup.find_all(\"div\", {\"data-viewport\":\"TopTransfers_abgaenge\"})[0]\n",
    "\n",
    "top_departures_names = top_departures.find_all('table')[0].find_all('span', {'class' : 'spielername'})\n",
    "\n",
    "top_departures_fee = top_departures.find_all('table')[0].find_all('td', {'class' : 'rechts'})\n",
    "\n",
    "top_departures_to = top_departures.find_all('table')[0].find_all('span', {'class' : 'wappen-ab'})\n"
   ]
  },
  {
   "cell_type": "code",
   "execution_count": 19,
   "id": "e0e30584",
   "metadata": {},
   "outputs": [],
   "source": [
    "departed = []\n",
    "earned = []\n",
    "left_to = []\n",
    "for i in range(len(top_arrivals_names)):\n",
    "    departed.append(top_departures_names[i].text.strip())\n",
    "    earned.append(top_departures_fee[i].text.strip())\n",
    "    left_to.append(top_departures_to[i].img.attrs.get(\"title\").strip())"
   ]
  },
  {
   "cell_type": "code",
   "execution_count": 20,
   "id": "e122481b",
   "metadata": {},
   "outputs": [],
   "source": [
    "departures_df = pd.DataFrame({\"Players\":departed,\"Fee\":earned, \"Arrived From\": left_to})"
   ]
  },
  {
   "cell_type": "code",
   "execution_count": 21,
   "id": "63467180",
   "metadata": {},
   "outputs": [
    {
     "data": {
      "text/html": [
       "<div>\n",
       "<style scoped>\n",
       "    .dataframe tbody tr th:only-of-type {\n",
       "        vertical-align: middle;\n",
       "    }\n",
       "\n",
       "    .dataframe tbody tr th {\n",
       "        vertical-align: top;\n",
       "    }\n",
       "\n",
       "    .dataframe thead th {\n",
       "        text-align: right;\n",
       "    }\n",
       "</style>\n",
       "<table border=\"1\" class=\"dataframe\">\n",
       "  <thead>\n",
       "    <tr style=\"text-align: right;\">\n",
       "      <th></th>\n",
       "      <th>Players</th>\n",
       "      <th>Fee</th>\n",
       "      <th>Arrived From</th>\n",
       "    </tr>\n",
       "  </thead>\n",
       "  <tbody>\n",
       "    <tr>\n",
       "      <th>0</th>\n",
       "      <td>Nikola Vlasic</td>\n",
       "      <td>loan transfer</td>\n",
       "      <td>Torino</td>\n",
       "    </tr>\n",
       "    <tr>\n",
       "      <th>1</th>\n",
       "      <td>Issa Diop</td>\n",
       "      <td>€17.80m</td>\n",
       "      <td>Fulham</td>\n",
       "    </tr>\n",
       "    <tr>\n",
       "      <th>2</th>\n",
       "      <td>Arthur Masuaku</td>\n",
       "      <td>loan transfer</td>\n",
       "      <td>Besiktas</td>\n",
       "    </tr>\n",
       "    <tr>\n",
       "      <th>3</th>\n",
       "      <td>Andriy Yarmolenko</td>\n",
       "      <td>free transfer</td>\n",
       "      <td>Al-Ain FC</td>\n",
       "    </tr>\n",
       "    <tr>\n",
       "      <th>4</th>\n",
       "      <td>Ryan Fredericks</td>\n",
       "      <td>free transfer</td>\n",
       "      <td>Bournemouth</td>\n",
       "    </tr>\n",
       "  </tbody>\n",
       "</table>\n",
       "</div>"
      ],
      "text/plain": [
       "             Players            Fee Arrived From\n",
       "0      Nikola Vlasic  loan transfer       Torino\n",
       "1          Issa Diop        €17.80m       Fulham\n",
       "2     Arthur Masuaku  loan transfer     Besiktas\n",
       "3  Andriy Yarmolenko  free transfer    Al-Ain FC\n",
       "4    Ryan Fredericks  free transfer  Bournemouth"
      ]
     },
     "execution_count": 21,
     "metadata": {},
     "output_type": "execute_result"
    }
   ],
   "source": [
    "departures_df"
   ]
  },
  {
   "cell_type": "code",
   "execution_count": null,
   "id": "0ef9dbdd",
   "metadata": {},
   "outputs": [],
   "source": []
  },
  {
   "cell_type": "code",
   "execution_count": null,
   "id": "b6a56cb2",
   "metadata": {},
   "outputs": [],
   "source": []
  }
 ],
 "metadata": {
  "kernelspec": {
   "display_name": "Python 3 (ipykernel)",
   "language": "python",
   "name": "python3"
  },
  "language_info": {
   "codemirror_mode": {
    "name": "ipython",
    "version": 3
   },
   "file_extension": ".py",
   "mimetype": "text/x-python",
   "name": "python",
   "nbconvert_exporter": "python",
   "pygments_lexer": "ipython3",
   "version": "3.10.6"
  }
 },
 "nbformat": 4,
 "nbformat_minor": 5
}
